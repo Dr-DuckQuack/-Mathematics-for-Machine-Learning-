{
 "cells": [
  {
   "cell_type": "code",
   "execution_count": 7,
   "id": "3968d8",
   "metadata": {
    "collapsed": false
   },
   "outputs": [
    {
     "name": "stdout",
     "output_type": "stream",
     "text": [
      "===== (a) Define matrices A, B, and vectors x, y =====\n",
      "\n",
      "Matrix A =\n"
     ]
    },
    {
     "data": {
      "text/html": "<html>\\(\\displaystyle \\left(\\begin{array}{rr}\n1 & 2 \\\\\n0 & 1 \\\\\n2 & 3\n\\end{array}\\right)\\)</html>",
      "text/latex": [
       "$\\displaystyle \\left(\\begin{array}{rr}\n",
       "1 & 2 \\\\\n",
       "0 & 1 \\\\\n",
       "2 & 3\n",
       "\\end{array}\\right)$"
      ],
      "text/plain": [
       "[1 2]\n",
       "[0 1]\n",
       "[2 3]"
      ]
     },
     "execution_count": 7,
     "metadata": {
     },
     "output_type": "execute_result"
    },
    {
     "name": "stdout",
     "output_type": "stream",
     "text": [
      "Matrix B =\n"
     ]
    },
    {
     "data": {
      "text/html": "<html>\\(\\displaystyle \\left(\\begin{array}{rrr}\n1 & 3 & 2 \\\\\n2 & 5 & 1 \\\\\n4 & 1 & 0\n\\end{array}\\right)\\)</html>",
      "text/latex": [
       "$\\displaystyle \\left(\\begin{array}{rrr}\n",
       "1 & 3 & 2 \\\\\n",
       "2 & 5 & 1 \\\\\n",
       "4 & 1 & 0\n",
       "\\end{array}\\right)$"
      ],
      "text/plain": [
       "[1 3 2]\n",
       "[2 5 1]\n",
       "[4 1 0]"
      ]
     },
     "execution_count": 7,
     "metadata": {
     },
     "output_type": "execute_result"
    },
    {
     "name": "stdout",
     "output_type": "stream",
     "text": [
      "Vectors x and y =\n"
     ]
    },
    {
     "data": {
      "text/html": "<html>\\(\\displaystyle \\left(x_{1},\\,x_{2}\\right)\\)</html>",
      "text/latex": [
       "$\\displaystyle \\left(x_{1},\\,x_{2}\\right)$"
      ],
      "text/plain": [
       "(x1, x2)"
      ]
     },
     "execution_count": 7,
     "metadata": {
     },
     "output_type": "execute_result"
    },
    {
     "data": {
      "text/html": "<html>\\(\\displaystyle \\left(25,\\,15\\right)\\)</html>",
      "text/latex": [
       "$\\displaystyle \\left(25,\\,15\\right)$"
      ],
      "text/plain": [
       "(25, 15)"
      ]
     },
     "execution_count": 7,
     "metadata": {
     },
     "output_type": "execute_result"
    },
    {
     "name": "stdout",
     "output_type": "stream",
     "text": [
      "\n",
      "===== (b) Compute B*B^T and check singularity =====\n",
      "\n",
      "Matrix B * B^T =\n"
     ]
    },
    {
     "data": {
      "text/html": "<html>\\(\\displaystyle \\left(\\begin{array}{rrr}\n14 & 19 & 7 \\\\\n19 & 30 & 13 \\\\\n7 & 13 & 17\n\\end{array}\\right)\\)</html>",
      "text/latex": [
       "$\\displaystyle \\left(\\begin{array}{rrr}\n",
       "14 & 19 & 7 \\\\\n",
       "19 & 30 & 13 \\\\\n",
       "7 & 13 & 17\n",
       "\\end{array}\\right)$"
      ],
      "text/plain": [
       "[14 19  7]\n",
       "[19 30 13]\n",
       "[ 7 13 17]"
      ]
     },
     "execution_count": 7,
     "metadata": {
     },
     "output_type": "execute_result"
    },
    {
     "name": "stdout",
     "output_type": "stream",
     "text": [
      "Determinant of (B * B^T) =  625\n",
      "→ The matrix B*B^T is non-singular (invertible).\n",
      "\n",
      "===== (c) Compute C = A^T (B*B^T)^(-1) A =====\n",
      "Matrix C =\n"
     ]
    },
    {
     "data": {
      "text/html": "<html>\\(\\displaystyle \\left(\\begin{array}{rr}\n\\frac{29}{25} & \\frac{193}{125} \\\\\n\\frac{193}{125} & \\frac{1306}{625}\n\\end{array}\\right)\\)</html>",
      "text/latex": [
       "$\\displaystyle \\left(\\begin{array}{rr}\n",
       "\\frac{29}{25} & \\frac{193}{125} \\\\\n",
       "\\frac{193}{125} & \\frac{1306}{625}\n",
       "\\end{array}\\right)$"
      ],
      "text/plain": [
       "[   29/25  193/125]\n",
       "[ 193/125 1306/625]"
      ]
     },
     "execution_count": 7,
     "metadata": {
     },
     "output_type": "execute_result"
    },
    {
     "name": "stdout",
     "output_type": "stream",
     "text": [
      "\n",
      "===== (d) Solve Cx = y =====\n",
      "\n",
      "--- (i) Solution by matrix inversion ---\n"
     ]
    },
    {
     "data": {
      "text/html": "<html>\\(\\displaystyle \\left(727,\\,-530\\right)\\)</html>",
      "text/latex": [
       "$\\displaystyle \\left(727,\\,-530\\right)$"
      ],
      "text/plain": [
       "(727, -530)"
      ]
     },
     "execution_count": 7,
     "metadata": {
     },
     "output_type": "execute_result"
    },
    {
     "name": "stdout",
     "output_type": "stream",
     "text": [
      "\n",
      "--- (ii) Solution by the 'solve' function ---\n"
     ]
    },
    {
     "data": {
      "text/html": "<html>\\(\\displaystyle \\left[\\left[x_{1} = 727, x_{2} = \\left(-530\\right)\\right]\\right]\\)</html>",
      "text/latex": [
       "$\\displaystyle \\left[\\left[x_{1} = 727, x_{2} = \\left(-530\\right)\\right]\\right]$"
      ],
      "text/plain": [
       "[[x1 == 727, x2 == -530]]"
      ]
     },
     "execution_count": 7,
     "metadata": {
     },
     "output_type": "execute_result"
    },
    {
     "name": "stdout",
     "output_type": "stream",
     "text": [
      "\n",
      "===== SUMMARY =====\n",
      "Matrix C:\n"
     ]
    },
    {
     "data": {
      "text/html": "<html>\\(\\displaystyle \\left(\\begin{array}{rr}\n\\frac{29}{25} & \\frac{193}{125} \\\\\n\\frac{193}{125} & \\frac{1306}{625}\n\\end{array}\\right)\\)</html>",
      "text/latex": [
       "$\\displaystyle \\left(\\begin{array}{rr}\n",
       "\\frac{29}{25} & \\frac{193}{125} \\\\\n",
       "\\frac{193}{125} & \\frac{1306}{625}\n",
       "\\end{array}\\right)$"
      ],
      "text/plain": [
       "[   29/25  193/125]\n",
       "[ 193/125 1306/625]"
      ]
     },
     "execution_count": 7,
     "metadata": {
     },
     "output_type": "execute_result"
    },
    {
     "name": "stdout",
     "output_type": "stream",
     "text": [
      "Solution by matrix inversion:\n"
     ]
    },
    {
     "data": {
      "text/html": "<html>\\(\\displaystyle \\left(727,\\,-530\\right)\\)</html>",
      "text/latex": [
       "$\\displaystyle \\left(727,\\,-530\\right)$"
      ],
      "text/plain": [
       "(727, -530)"
      ]
     },
     "execution_count": 7,
     "metadata": {
     },
     "output_type": "execute_result"
    },
    {
     "name": "stdout",
     "output_type": "stream",
     "text": [
      "Solution by 'solve':\n"
     ]
    },
    {
     "data": {
      "text/html": "<html>\\(\\displaystyle \\left[\\left[x_{1} = 727, x_{2} = \\left(-530\\right)\\right]\\right]\\)</html>",
      "text/latex": [
       "$\\displaystyle \\left[\\left[x_{1} = 727, x_{2} = \\left(-530\\right)\\right]\\right]$"
      ],
      "text/plain": [
       "[[x1 == 727, x2 == -530]]"
      ]
     },
     "execution_count": 7,
     "metadata": {
     },
     "output_type": "execute_result"
    }
   ],
   "source": [
    "# =============================\n",
    "# PROBLEM 8 - SageMath Solution\n",
    "# =============================\n",
    "\n",
    "# (a) Define matrices A, B and vectors x, y\n",
    "print(\"===== (a) Define matrices A, B, and vectors x, y =====\")\n",
    "\n",
    "A = matrix([[1, 2],\n",
    "            [0, 1],\n",
    "            [2, 3]])\n",
    "\n",
    "B = matrix([[1, 3, 2],\n",
    "            [2, 5, 1],\n",
    "            [4, 1, 0]])\n",
    "\n",
    "x1, x2 = var('x1 x2')\n",
    "x = vector([x1, x2])\n",
    "y = vector([25, 15])\n",
    "\n",
    "print(\"\\nMatrix A =\")\n",
    "show(A)\n",
    "print(\"Matrix B =\")\n",
    "show(B)\n",
    "print(\"Vectors x and y =\")\n",
    "show(x)\n",
    "show(y)\n",
    "\n",
    "# ----------------------------------------------------------\n",
    "# (b) Compute B * B^T and check if it is singular\n",
    "print(\"\\n===== (b) Compute B*B^T and check singularity =====\")\n",
    "\n",
    "BBt = B * B.transpose()\n",
    "print(\"\\nMatrix B * B^T =\")\n",
    "show(BBt)\n",
    "\n",
    "det_BBt = BBt.det()\n",
    "print(\"Determinant of (B * B^T) = \", det_BBt)\n",
    "\n",
    "if det_BBt == 0:\n",
    "    print(\"→ The matrix B*B^T is singular (not invertible).\")\n",
    "else:\n",
    "    print(\"→ The matrix B*B^T is non-singular (invertible).\")\n",
    "\n",
    "# ----------------------------------------------------------\n",
    "# (c) Compute C = A^T * (B * B^T)^(-1) * A\n",
    "print(\"\\n===== (c) Compute C = A^T (B*B^T)^(-1) A =====\")\n",
    "\n",
    "C = A.transpose() * (BBt.inverse()) * A\n",
    "print(\"Matrix C =\")\n",
    "show(C)\n",
    "\n",
    "# ----------------------------------------------------------\n",
    "# (d) Solve Cx = y\n",
    "print(\"\\n===== (d) Solve Cx = y =====\")\n",
    "\n",
    "# (i) Using matrix inversion\n",
    "print(\"\\n--- (i) Solution by matrix inversion ---\")\n",
    "x_sol1 = C.inverse() * y\n",
    "show(x_sol1)\n",
    "\n",
    "# (ii) Using SageMath 'solve' function\n",
    "print(\"\\n--- (ii) Solution by the 'solve' function ---\")\n",
    "eqs = [sum(C[i,j]*x[j] for j in range(2)) == y[i] for i in range(2)]\n",
    "x_sol2 = solve(eqs, [x1, x2])\n",
    "show(x_sol2)\n"
   ]
  }
 ],
 "metadata": {
  "kernelspec": {
   "argv": [
    "sage-10.7",
    "--python",
    "-m",
    "sage.repl.ipython_kernel",
    "--matplotlib=inline",
    "-f",
    "{connection_file}"
   ],
   "display_name": "SageMath 10.7",
   "env": {
   },
   "language": "sagemath",
   "metadata": {
    "cocalc": {
     "description": "Open-source mathematical software system",
     "priority": 10,
     "url": "https://www.sagemath.org/"
    }
   },
   "name": "sage-10.7",
   "resource_dir": "/ext/jupyter/kernels/sage-10.7"
  },
  "language_info": {
   "codemirror_mode": {
    "name": "ipython",
    "version": 3
   },
   "file_extension": ".py",
   "mimetype": "text/x-python",
   "name": "python",
   "nbconvert_exporter": "python",
   "pygments_lexer": "ipython3",
   "version": "3.12.5"
  }
 },
 "nbformat": 4,
 "nbformat_minor": 4
}