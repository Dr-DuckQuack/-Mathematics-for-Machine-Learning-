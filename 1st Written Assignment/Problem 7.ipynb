{
 "cells": [
  {
   "cell_type": "code",
   "execution_count": 4,
   "id": "35afaf",
   "metadata": {
    "collapsed": false
   },
   "outputs": [
    {
     "name": "stdout",
     "output_type": "stream",
     "text": [
      "===== (a) Define the matrix A =====\n",
      "Matrix A =\n"
     ]
    },
    {
     "data": {
      "text/html": "<html>\\(\\displaystyle \\left(\\begin{array}{rrrr}\n1 & 1 & 1 & 1 \\\\\n1 & 3 & 9 & 27 \\\\\n1 & 5 & 25 & 125 \\\\\n1 & 8 & 64 & 512\n\\end{array}\\right)\\)</html>",
      "text/latex": [
       "$\\displaystyle \\left(\\begin{array}{rrrr}\n",
       "1 & 1 & 1 & 1 \\\\\n",
       "1 & 3 & 9 & 27 \\\\\n",
       "1 & 5 & 25 & 125 \\\\\n",
       "1 & 8 & 64 & 512\n",
       "\\end{array}\\right)$"
      ],
      "text/plain": [
       "[  1   1   1   1]\n",
       "[  1   3   9  27]\n",
       "[  1   5  25 125]\n",
       "[  1   8  64 512]"
      ]
     },
     "execution_count": 4,
     "metadata": {
     },
     "output_type": "execute_result"
    },
    {
     "name": "stdout",
     "output_type": "stream",
     "text": [
      "\n",
      "===== (b) Compute the determinant of A and factorize it =====\n"
     ]
    },
    {
     "name": "stdout",
     "output_type": "stream",
     "text": [
      "Determinant of A (symbolic) =\n"
     ]
    },
    {
     "data": {
      "text/html": "<html>\\(\\displaystyle -p^{4} q^{2} + p^{2} q^{4} + p^{4} q + 2 \\, p^{3} q^{2} - 2 \\, p^{2} q^{3} - p q^{4} - 2 \\, p^{3} q + 2 \\, p q^{3} + p^{2} q - p q^{2}\\)</html>",
      "text/latex": [
       "$\\displaystyle -p^{4} q^{2} + p^{2} q^{4} + p^{4} q + 2 \\, p^{3} q^{2} - 2 \\, p^{2} q^{3} - p q^{4} - 2 \\, p^{3} q + 2 \\, p q^{3} + p^{2} q - p q^{2}$"
      ],
      "text/plain": [
       "-p^4*q^2 + p^2*q^4 + p^4*q + 2*p^3*q^2 - 2*p^2*q^3 - p*q^4 - 2*p^3*q + 2*p*q^3 + p^2*q - p*q^2"
      ]
     },
     "execution_count": 4,
     "metadata": {
     },
     "output_type": "execute_result"
    },
    {
     "name": "stdout",
     "output_type": "stream",
     "text": [
      "Factorized form of determinant =\n"
     ]
    },
    {
     "data": {
      "text/html": "<html>\\(\\displaystyle -{\\left(p + q - 1\\right)} {\\left(p - q\\right)} {\\left(p - 1\\right)} p {\\left(q - 1\\right)} q\\)</html>",
      "text/latex": [
       "$\\displaystyle -{\\left(p + q - 1\\right)} {\\left(p - q\\right)} {\\left(p - 1\\right)} p {\\left(q - 1\\right)} q$"
      ],
      "text/plain": [
       "-(p + q - 1)*(p - q)*(p - 1)*p*(q - 1)*q"
      ]
     },
     "execution_count": 4,
     "metadata": {
     },
     "output_type": "execute_result"
    },
    {
     "name": "stdout",
     "output_type": "stream",
     "text": [
      "\n",
      "===== (c) Constraints on p and q for which A is non-invertible =====\n",
      "Values of q (in terms of p) for which det(A) = 0:\n"
     ]
    },
    {
     "data": {
      "text/html": "<html>\\(\\displaystyle \\left[q = 1, q = -p + 1, q = p, q = 0\\right]\\)</html>",
      "text/latex": [
       "$\\displaystyle \\left[q = 1, q = -p + 1, q = p, q = 0\\right]$"
      ],
      "text/plain": [
       "[q == 1, q == -p + 1, q == p, q == 0]"
      ]
     },
     "execution_count": 4,
     "metadata": {
     },
     "output_type": "execute_result"
    },
    {
     "name": "stdout",
     "output_type": "stream",
     "text": [
      "\n",
      "===== (d) Reduced Row Echelon Form of A (for p=3, q=5) =====\n",
      "RREF of A =\n"
     ]
    },
    {
     "data": {
      "text/html": "<html>\\(\\displaystyle \\left(\\begin{array}{rrrr}\n1 & 0 & 0 & 0 \\\\\n0 & 1 & 0 & 0 \\\\\n0 & 0 & 1 & 0 \\\\\n0 & 0 & 0 & 1\n\\end{array}\\right)\\)</html>",
      "text/latex": [
       "$\\displaystyle \\left(\\begin{array}{rrrr}\n",
       "1 & 0 & 0 & 0 \\\\\n",
       "0 & 1 & 0 & 0 \\\\\n",
       "0 & 0 & 1 & 0 \\\\\n",
       "0 & 0 & 0 & 1\n",
       "\\end{array}\\right)$"
      ],
      "text/plain": [
       "[1 0 0 0]\n",
       "[0 1 0 0]\n",
       "[0 0 1 0]\n",
       "[0 0 0 1]"
      ]
     },
     "execution_count": 4,
     "metadata": {
     },
     "output_type": "execute_result"
    },
    {
     "name": "stdout",
     "output_type": "stream",
     "text": [
      "\n",
      "===== (e) Compute the rank of A =====\n",
      "Rank of A = 4\n",
      "\n",
      "===== SUMMARY =====\n",
      "Matrix A (with p=3, q=5):\n"
     ]
    },
    {
     "data": {
      "text/html": "<html>\\(\\displaystyle \\left(\\begin{array}{rrrr}\n1 & 1 & 1 & 1 \\\\\n1 & 3 & 9 & 27 \\\\\n1 & 5 & 25 & 125 \\\\\n1 & 8 & 64 & 512\n\\end{array}\\right)\\)</html>",
      "text/latex": [
       "$\\displaystyle \\left(\\begin{array}{rrrr}\n",
       "1 & 1 & 1 & 1 \\\\\n",
       "1 & 3 & 9 & 27 \\\\\n",
       "1 & 5 & 25 & 125 \\\\\n",
       "1 & 8 & 64 & 512\n",
       "\\end{array}\\right)$"
      ],
      "text/plain": [
       "[  1   1   1   1]\n",
       "[  1   3   9  27]\n",
       "[  1   5  25 125]\n",
       "[  1   8  64 512]"
      ]
     },
     "execution_count": 4,
     "metadata": {
     },
     "output_type": "execute_result"
    },
    {
     "name": "stdout",
     "output_type": "stream",
     "text": [
      "Determinant (symbolic, factored):\n"
     ]
    },
    {
     "data": {
      "text/html": "<html>\\(\\displaystyle -{\\left(p + q - 1\\right)} {\\left(p - q\\right)} {\\left(p - 1\\right)} p {\\left(q - 1\\right)} q\\)</html>",
      "text/latex": [
       "$\\displaystyle -{\\left(p + q - 1\\right)} {\\left(p - q\\right)} {\\left(p - 1\\right)} p {\\left(q - 1\\right)} q$"
      ],
      "text/plain": [
       "-(p + q - 1)*(p - q)*(p - 1)*p*(q - 1)*q"
      ]
     },
     "execution_count": 4,
     "metadata": {
     },
     "output_type": "execute_result"
    },
    {
     "name": "stdout",
     "output_type": "stream",
     "text": [
      "RREF of A:\n"
     ]
    },
    {
     "data": {
      "text/html": "<html>\\(\\displaystyle \\left(\\begin{array}{rrrr}\n1 & 0 & 0 & 0 \\\\\n0 & 1 & 0 & 0 \\\\\n0 & 0 & 1 & 0 \\\\\n0 & 0 & 0 & 1\n\\end{array}\\right)\\)</html>",
      "text/latex": [
       "$\\displaystyle \\left(\\begin{array}{rrrr}\n",
       "1 & 0 & 0 & 0 \\\\\n",
       "0 & 1 & 0 & 0 \\\\\n",
       "0 & 0 & 1 & 0 \\\\\n",
       "0 & 0 & 0 & 1\n",
       "\\end{array}\\right)$"
      ],
      "text/plain": [
       "[1 0 0 0]\n",
       "[0 1 0 0]\n",
       "[0 0 1 0]\n",
       "[0 0 0 1]"
      ]
     },
     "execution_count": 4,
     "metadata": {
     },
     "output_type": "execute_result"
    },
    {
     "name": "stdout",
     "output_type": "stream",
     "text": [
      "Rank of A = 4\n"
     ]
    }
   ],
   "source": [
    "# =============================\n",
    "# PROBLEM 7 - SageMath Solution\n",
    "# =============================\n",
    "\n",
    "# (a) Define the matrix A\n",
    "print(\"===== (a) Define the matrix A =====\")\n",
    "\n",
    "# Define parameters\n",
    "# Student ID 172335\n",
    "p = 3\n",
    "q = 5\n",
    "\n",
    "A = matrix([\n",
    "    [1,        1,        1,        1],\n",
    "    [1,        p,        p^2,      p^3],\n",
    "    [1,        q,        q^2,      q^3],\n",
    "    [1,  p+q,  (p+q)^2,  (p+q)^3]\n",
    "])\n",
    "\n",
    "print(\"Matrix A =\")\n",
    "show(A)\n",
    "\n",
    "# ----------------------------------------------------------\n",
    "# (b) Compute the determinant of A symbolically and factorize it\n",
    "print(\"\\n===== (b) Compute the determinant of A and factorize it =====\")\n",
    "\n",
    "var('p q')\n",
    "A_sym = matrix([\n",
    "    [1,        1,        1,        1],\n",
    "    [1,        p,        p^2,      p^3],\n",
    "    [1,        q,        q^2,      q^3],\n",
    "    [1,  p+q,  (p+q)^2,  (p+q)^3]\n",
    "])\n",
    "\n",
    "detA = A_sym.det()\n",
    "print(\"Determinant of A (symbolic) =\")\n",
    "show(detA)\n",
    "print(\"Factorized form of determinant =\")\n",
    "show(factor(detA))\n",
    "\n",
    "# ----------------------------------------------------------\n",
    "# (c) Find constraints on p and q for which A is non-invertible\n",
    "print(\"\\n===== (c) Constraints on p and q for which A is non-invertible =====\")\n",
    "\n",
    "# Solve det(A) = 0\n",
    "non_invertible_conditions = solve(detA == 0, q)\n",
    "print(\"Values of q (in terms of p) for which det(A) = 0:\")\n",
    "show(non_invertible_conditions)\n",
    "\n",
    "# ----------------------------------------------------------\n",
    "# (d) Bring A (for p=3, q=5) to its Reduced Row Echelon Form (RREF)\n",
    "print(\"\\n===== (d) Reduced Row Echelon Form of A (for p=3, q=5) =====\")\n",
    "\n",
    "rref_A = A.rref()\n",
    "print(\"RREF of A =\")\n",
    "show(rref_A)\n",
    "\n",
    "# ----------------------------------------------------------\n",
    "# (e) Compute the rank of A\n",
    "print(\"\\n===== (e) Compute the rank of A =====\")\n",
    "\n",
    "rank_A = A.rank()\n",
    "print(\"Rank of A =\", rank_A)\n"
   ]
  }
 ],
 "metadata": {
  "kernelspec": {
   "argv": [
    "sage-10.7",
    "--python",
    "-m",
    "sage.repl.ipython_kernel",
    "--matplotlib=inline",
    "-f",
    "{connection_file}"
   ],
   "display_name": "SageMath 10.7",
   "env": {
   },
   "language": "sagemath",
   "metadata": {
    "cocalc": {
     "description": "Open-source mathematical software system",
     "priority": 10,
     "url": "https://www.sagemath.org/"
    }
   },
   "name": "sage-10.7",
   "resource_dir": "/ext/jupyter/kernels/sage-10.7"
  },
  "language_info": {
   "codemirror_mode": {
    "name": "ipython",
    "version": 3
   },
   "file_extension": ".py",
   "mimetype": "text/x-python",
   "name": "python",
   "nbconvert_exporter": "python",
   "pygments_lexer": "ipython3",
   "version": "3.12.5"
  }
 },
 "nbformat": 4,
 "nbformat_minor": 4
}